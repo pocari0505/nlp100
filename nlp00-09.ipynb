{
 "cells": [
  {
   "cell_type": "markdown",
   "metadata": {},
   "source": [
    "## 第1章:準備運動\n",
    "\n",
    "### 00.文字列の逆順\n",
    "文字列\"stressed\"の文字を逆に（末尾から先頭に向かって）並べた文字列を得よ．"
   ]
  },
  {
   "cell_type": "code",
   "execution_count": 1,
   "metadata": {},
   "outputs": [
    {
     "name": "stdout",
     "output_type": "stream",
     "text": [
      "desserts\n",
      "desserts\n"
     ]
    }
   ],
   "source": [
    "target ='stressed'\n",
    "result=target[::-1]\n",
    "print(result)\n",
    "# 別解\n",
    "print(target[::-1])"
   ]
  },
  {
   "cell_type": "markdown",
   "metadata": {},
   "source": [
    "### 01.「パタトクカシーー」\n",
    "「パタトクカシーー」という文字列の1,3,5,7文字目を取り出して連結した文字列を得よ"
   ]
  },
  {
   "cell_type": "code",
   "execution_count": 2,
   "metadata": {},
   "outputs": [
    {
     "name": "stdout",
     "output_type": "stream",
     "text": [
      "パトカー\n"
     ]
    }
   ],
   "source": [
    "target = 'パタトクカシーー'\n",
    "result = target[::2]\n",
    "print(result)"
   ]
  },
  {
   "cell_type": "code",
   "execution_count": 3,
   "metadata": {},
   "outputs": [
    {
     "name": "stdout",
     "output_type": "stream",
     "text": [
      "タクシー\n"
     ]
    }
   ],
   "source": [
    "target = 'パタトクカシーー'\n",
    "result = target[1::2]\n",
    "print(result)"
   ]
  },
  {
   "cell_type": "markdown",
   "metadata": {},
   "source": [
    "### 02.「パトカー」＋「タクシー」＝「パタトクカシーー」\n",
    "「パトカー」＋「タクシー」の文字を先頭から交互に連結して文字列「パタトクカシーー」を得よ．\n",
    "[(必読)解説](https://qiita.com/segavvy/items/725b20f21951975a06fd)"
   ]
  },
  {
   "cell_type": "code",
   "execution_count": 4,
   "metadata": {},
   "outputs": [
    {
     "name": "stdout",
     "output_type": "stream",
     "text": [
      "パタトクカシーー\n"
     ]
    }
   ],
   "source": [
    "target1 = 'パトカー'\n",
    "target2 = 'タクシー'\n",
    "result = ''\n",
    "for (a, b) in zip(target1, target2):\n",
    "    result += a + b\n",
    "print(result)"
   ]
  },
  {
   "cell_type": "code",
   "execution_count": 5,
   "metadata": {},
   "outputs": [
    {
     "name": "stdout",
     "output_type": "stream",
     "text": [
      "パタトクカシーー\n"
     ]
    }
   ],
   "source": [
    "from functools import reduce\n",
    "\n",
    "target1 = 'パトカー'\n",
    "target2 = 'タクシー'\n",
    "result = ''.join(reduce(lambda x, y: x + y, zip(target1, target2)))\n",
    "print(result)"
   ]
  },
  {
   "cell_type": "markdown",
   "metadata": {},
   "source": [
    "- [lambda](https://www.sejuku.net/blog/23677)\n",
    "- [イテレータとジェネレータ](https://qiita.com/tomotaka_ito/items/35f3eb108f587022fa09)"
   ]
  },
  {
   "cell_type": "markdown",
   "metadata": {},
   "source": [
    "### 03. 円周率\n",
    "\"Now I need a drink, alcoholic of course, after the heavy lectures involving quantum mechanics.\"という文を単語に分解し，各単語の（アルファベットの）文字数を先頭から出現順に並べたリストを作成せよ．"
   ]
  },
  {
   "cell_type": "code",
   "execution_count": 6,
   "metadata": {},
   "outputs": [
    {
     "ename": "NameError",
     "evalue": "name 's' is not defined",
     "output_type": "error",
     "traceback": [
      "\u001b[0;31m---------------------------------------------------------------------------\u001b[0m",
      "\u001b[0;31mNameError\u001b[0m                                 Traceback (most recent call last)",
      "\u001b[0;32m<ipython-input-6-f494e2129e10>\u001b[0m in \u001b[0;36m<module>\u001b[0;34m()\u001b[0m\n\u001b[1;32m      1\u001b[0m \u001b[0mtarget\u001b[0m \u001b[0;34m=\u001b[0m \u001b[0;34m'Now I need a drink, alcoholic of course, after the heavy lectures involving quantum mechanics.'\u001b[0m\u001b[0;34m\u001b[0m\u001b[0m\n\u001b[1;32m      2\u001b[0m \u001b[0;34m\u001b[0m\u001b[0m\n\u001b[0;32m----> 3\u001b[0;31m \u001b[0msentence\u001b[0m \u001b[0;34m=\u001b[0m \u001b[0ms\u001b[0m\u001b[0;34m.\u001b[0m\u001b[0mreplace\u001b[0m\u001b[0;34m(\u001b[0m\u001b[0;34m','\u001b[0m\u001b[0;34m,\u001b[0m\u001b[0;34m''\u001b[0m\u001b[0;34m)\u001b[0m\u001b[0;34m.\u001b[0m\u001b[0mreplace\u001b[0m\u001b[0;34m(\u001b[0m\u001b[0;34m'.'\u001b[0m\u001b[0;34m,\u001b[0m\u001b[0;34m''\u001b[0m\u001b[0;34m)\u001b[0m\u001b[0;34m.\u001b[0m\u001b[0msplit\u001b[0m\u001b[0;34m(\u001b[0m\u001b[0;34m' '\u001b[0m\u001b[0;34m)\u001b[0m\u001b[0;34m\u001b[0m\u001b[0m\n\u001b[0m\u001b[1;32m      4\u001b[0m \u001b[0mlen_list\u001b[0m \u001b[0;34m=\u001b[0m \u001b[0;34m[\u001b[0m\u001b[0mlen\u001b[0m\u001b[0;34m(\u001b[0m\u001b[0mword\u001b[0m\u001b[0;34m)\u001b[0m \u001b[0;32mfor\u001b[0m \u001b[0mword\u001b[0m \u001b[0;32min\u001b[0m \u001b[0msentence\u001b[0m\u001b[0;34m]\u001b[0m\u001b[0;34m\u001b[0m\u001b[0m\n\u001b[1;32m      5\u001b[0m \u001b[0mprint\u001b[0m\u001b[0;34m(\u001b[0m\u001b[0mlen_list\u001b[0m\u001b[0;34m)\u001b[0m\u001b[0;34m\u001b[0m\u001b[0m\n",
      "\u001b[0;31mNameError\u001b[0m: name 's' is not defined"
     ]
    }
   ],
   "source": [
    "target = 'Now I need a drink, alcoholic of course, after the heavy lectures involving quantum mechanics.'\n",
    "\n",
    "sentence = s.replace(',','').replace('.','').split(' ')\n",
    "len_list = [len(word) for word in sentence]\n",
    "print(len_list)"
   ]
  },
  {
   "cell_type": "markdown",
   "metadata": {},
   "source": [
    "### 04.元素記号\n",
    "\"Hi He Lied Because Boron Could Not Oxidize Fluorine. New Nations Might Also Sign Peace Security Clause. Arthur King Can.\"という文を単語に分解し，1, 5, 6, 7, 8, 9, 15, 16, 19番目の単語は先頭の1文字，それ以外の単語は先頭に2文字を取り出し，取り出した文字列から単語の位置（先頭から何番目の単語か）への連想配列（辞書型もしくはマップ型）を作成せよ．"
   ]
  },
  {
   "cell_type": "code",
   "execution_count": null,
   "metadata": {},
   "outputs": [],
   "source": [
    "sentence = 'Hi He Lied Because Boron Could Not Oxidize Fluorine. New Nations Might Also Sign Peace Security Clause. Arthur King Can.'\n",
    "sentence = sentence.replace('.','').split(' ')\n",
    "index_list=[1,5,6,7,8,9,15,16,19]\n",
    "len_list=len(sentence)\n",
    "word_dict={}\n",
    "for i in range(len_list):\n",
    "    if i+1 in index_list:\n",
    "        word=sentence[i][0:1]\n",
    "    else:\n",
    "        word=sentence[i][0:2]\n",
    "    word_dict[i+1]=word\n",
    "\n",
    "print(word_dict)"
   ]
  },
  {
   "cell_type": "code",
   "execution_count": null,
   "metadata": {},
   "outputs": [],
   "source": [
    "sentence = \"Hi He Lied Because Boron Could Not Oxidize Fluorine. New Nations Might Also Sign Peace Security Clause. Arthur King Can.\"\n",
    "sentence = sentence.replace(\".\", \"\")\n",
    "sentence = sentence.split(\" \")\n",
    "\n",
    "index_list = [1,5,6,7,8,9,15,16,19]\n",
    "word_dict = {}\n",
    "for i, word in enumerate(sentence,1):\n",
    "    if i in index_list:\n",
    "        word_dict[i] = word[:1]\n",
    "    else:\n",
    "        word_dict[i] = word[:2]\n",
    "print(word_dict)"
   ]
  },
  {
   "cell_type": "markdown",
   "metadata": {},
   "source": [
    "- enumerate\n",
    "    - 開始地点の数値を設定することが可能(enumerate(sentence,1)で1から始まる)\n",
    "    - コードとして見やすい(上の２つを比較するといい)\n",
    "\n",
    "- replaceするタイミングとsplitするタイミングを別の行で書いた方がみやすい"
   ]
  },
  {
   "cell_type": "markdown",
   "metadata": {},
   "source": [
    "### 05.n-gram\n",
    "与えられたシーケンス（文字列やリストなど）からn-gramを作る関数を作成せよ．この関数を用い，\"I am an NLPer\"という文から単語bi-gram，文字bi-gramを得よ．"
   ]
  },
  {
   "cell_type": "code",
   "execution_count": 10,
   "metadata": {},
   "outputs": [
    {
     "name": "stdout",
     "output_type": "stream",
     "text": [
      "['I ', ' a', 'am', 'm ', ' a', 'an', 'n ', ' N', 'NL', 'LP', 'Pe', 'er']\n",
      "[['I', 'am'], ['am', 'an'], ['an', 'NLPer']]\n"
     ]
    }
   ],
   "source": [
    "def ngram(sequence, n):\n",
    "    results = []\n",
    "    if len(sentence) >= n:\n",
    "        for i in range(0, len(sequence)-n+1):\n",
    "            results.append(sequence[i:i+n])\n",
    "    return results\n",
    "\n",
    "sentence = \"I am an NLPer\"\n",
    "\n",
    "# 文字n-gram\n",
    "results = ngram(sentence, 2)\n",
    "print(results)\n",
    "\n",
    "# 単語n-gram\n",
    "sentence = sentence.split(\" \")\n",
    "results = ngram(sentence, 2)\n",
    "print(results)"
   ]
  },
  {
   "cell_type": "markdown",
   "metadata": {},
   "source": [
    "- append\n",
    "    - 要素の追加をするので、空のresultsにn-gramで区切った文字や単語の要素を追加する\n",
    "- n-gramとは\n",
    "    - 他の手法と組み合わせると強いらしい(今後、更新予定)"
   ]
  },
  {
   "cell_type": "markdown",
   "metadata": {},
   "source": [
    "### 06.集合\n",
    "\"paraparaparadise\"と\"paragraph\"に含まれる文字bi-gramの集合を，それぞれ, XとYとして求め，XとYの和集合，積集合，差集合を求めよ．さらに，'se'というbi-gramがXおよびYに含まれるかどうかを調べよ\n"
   ]
  },
  {
   "cell_type": "code",
   "execution_count": 28,
   "metadata": {},
   "outputs": [
    {
     "name": "stdout",
     "output_type": "stream",
     "text": [
      "X  :{'ap', 'se', 'pa', 'ra', 'is', 'ad', 'ar', 'di'}\n",
      "Y  :{'ap', 'ag', 'ph', 'gr', 'pa', 'ra', 'ar'}\n",
      "X+Y:{'ap', 'se', 'ra', 'is', 'ad', 'ar', 'di', 'ag', 'ph', 'gr', 'pa'}\n",
      "X*Y:{'ra', 'ap', 'pa', 'ar'}\n",
      "X-Y:{'is', 'di', 'ad', 'se'}\n",
      "'se' in X? ->True\n",
      "'se' in Y? ->False\n"
     ]
    }
   ],
   "source": [
    "def n_gram(sequence, n):\n",
    "    result = []\n",
    "    if len(sentence) >= n:\n",
    "        for i in range(0, len(sequence) - n + 1):\n",
    "            result.append(sequence[i:i + n])\n",
    "\n",
    "    return result\n",
    "\n",
    "word1 = 'paraparaparadise'\n",
    "word2 = 'paragraph'\n",
    "\n",
    "\n",
    "# 集合の作成\n",
    "set_x = set(n_gram(word1, 2))\n",
    "print('X  :' + str(set_x))\n",
    "set_y = set(n_gram(word2, 2))\n",
    "print('Y  :' + str(set_y))\n",
    "\n",
    "# 和集合\n",
    "set_or = set_x | set_y\n",
    "print('X+Y:' + str(set_or))\n",
    "\n",
    "# 積集合\n",
    "set_and = set_x & set_y\n",
    "print('X*Y:' + str(set_and))\n",
    "\n",
    "# 差集合\n",
    "set_sub = set_x - set_y\n",
    "print('X-Y:' + str(set_sub))\n",
    "\n",
    "# 'se'が含まれるか？\n",
    "print(\"'se' in X? ->\" + str('se' in set_x))\n",
    "print(\"'se' in Y? ->\" + str('se' in set_y))"
   ]
  },
  {
   "cell_type": "code",
   "execution_count": 14,
   "metadata": {},
   "outputs": [
    {
     "name": "stdout",
     "output_type": "stream",
     "text": [
      "X  : {'ap', 'se', 'pa', 'ra', 'is', 'ad', 'ar', 'di'}\n",
      "Y  : {'ap', 'ag', 'ph', 'gr', 'pa', 'ra', 'ar'}\n",
      "X+Y: {'ap', 'se', 'ra', 'is', 'ad', 'ar', 'di', 'ag', 'ph', 'gr', 'pa'}\n",
      "X*Y: {'ra', 'ap', 'pa', 'ar'}\n",
      "X-Y: {'is', 'di', 'ad', 'se'}\n",
      "'se' in X? -> True\n",
      "'se' in Y? -> False\n"
     ]
    }
   ],
   "source": [
    "def ngram(sequence, n):\n",
    "    results = []\n",
    "    if len(sentence) >= n:\n",
    "        for i in range(0, len(sequence)-n+1):\n",
    "            results.append(sequence[i:i+n])\n",
    "    return results\n",
    "\n",
    "word1 = \"paraparaparadise\"\n",
    "word2 = \"paragraph\"\n",
    "\n",
    "X = ngram(word1, 2)\n",
    "Y = ngram(word2, 2)\n",
    "\n",
    "X =set(X)\n",
    "Y =set(Y)\n",
    "\n",
    "print(\"X  : %s\" % X)\n",
    "print(\"Y  : %s\" % Y)\n",
    "print(\"X+Y: %s\" % X.union(Y))\n",
    "print(\"X*Y: %s\" % X.intersection(Y))\n",
    "print(\"X-Y: %s\" % X.difference(Y))\n",
    "\n",
    "print(\"'se' in X? -> %s\" % ('se' in X))\n",
    "print(\"'se' in Y? -> %s\" % ('se' in Y))"
   ]
  },
  {
   "cell_type": "markdown",
   "metadata": {},
   "source": [
    "- set関数は集合を生成するので、順番は決まってない&同じ要素は取り除かれる\n",
    "- print文で文字と一緒に数値やbool値をのせたい場合は、\n",
    "    - strで型変換するか\n",
    "    - c言語風に書くか\n",
    "- 下の書き方の方が、可読性が高い"
   ]
  },
  {
   "cell_type": "markdown",
   "metadata": {},
   "source": [
    "### 07.テンプレートによる文生成\n",
    "引数x, y, zを受け取り「x時のyはz」という文字列を返す関数を実装せよ．さらに，x=12, y=\"気温\", z=22.4として，実行結果を確認せよ"
   ]
  },
  {
   "cell_type": "code",
   "execution_count": 31,
   "metadata": {},
   "outputs": [
    {
     "name": "stdout",
     "output_type": "stream",
     "text": [
      "12時の気温は22.4\n"
     ]
    }
   ],
   "source": [
    "from string import Template\n",
    "\n",
    "\n",
    "def format_string(x, y, z):\n",
    "    s = Template('$hour時の$targetは$value')\n",
    "    return s.substitute(hour=x, target=y, value=z)\n",
    "\n",
    "x = 12; y = '気温'; z= 22.4\n",
    "print(format_string(x, y, z))"
   ]
  },
  {
   "cell_type": "code",
   "execution_count": 33,
   "metadata": {},
   "outputs": [
    {
     "name": "stdout",
     "output_type": "stream",
     "text": [
      "12時の気温は22.4です。\n"
     ]
    }
   ],
   "source": [
    "def generate_sentence(x, y, z):\n",
    "    return \"%s時の%sは%sです。\" % (x, y, z)\n",
    "\n",
    "x = 12; y = \"気温\"; z = 22.4\n",
    "print(generate_sentence(x, y, z))"
   ]
  },
  {
   "cell_type": "markdown",
   "metadata": {},
   "source": [
    "- 上のコードは、\n",
    "    - 処理が複雑でprint文の出力画面だけパッて見たときに理解しやすくしたい\n",
    "- 下のコードは、\n",
    "    - エラーが起きたときに数値を確認したい\n",
    "    - コードをちゃんと読まなくても処理できそうな作業で使う\n",
    "こんな感じで使い分けると幸せになれそう(予想)"
   ]
  },
  {
   "cell_type": "markdown",
   "metadata": {},
   "source": [
    "### 08.暗号文\n",
    "与えられた文字列の各文字を，以下の仕様で変換する関数cipherを実装せよ．\n",
    "\n",
    "- 英小文字ならば(219 - 文字コード)の文字に置換\n",
    "- その他の文字はそのまま出力\n",
    "この関数を用い，英語のメッセージを暗号化・復号化せよ．"
   ]
  },
  {
   "cell_type": "code",
   "execution_count": 2,
   "metadata": {},
   "outputs": [
    {
     "name": "stdout",
     "output_type": "stream",
     "text": [
      "文字列を入力してください--> asdfghjkl\n",
      "暗号化:zhwutsqpo\n",
      "復号化:asdfghjkl\n"
     ]
    }
   ],
   "source": [
    "def cipher(target):\n",
    "    result = ''\n",
    "    for c in target:\n",
    "        if c.islower():\n",
    "            result += chr(219 - ord(c))\n",
    "        else:\n",
    "            result += c\n",
    "    return result\n",
    "\n",
    "\n",
    "# 対象文字列の入力\n",
    "sentence = input('input string-> ')\n",
    "\n",
    "# 暗号化\n",
    "result = cipher(sentence)\n",
    "print('暗号化:' + result)\n",
    "\n",
    "# 復号化\n",
    "result2 = cipher(result)\n",
    "print('復号化:' + result2)"
   ]
  },
  {
   "cell_type": "code",
   "execution_count": 1,
   "metadata": {},
   "outputs": [
    {
     "name": "stdout",
     "output_type": "stream",
     "text": [
      "Agyzhs rh z hrnkov hfyhgrgfgrlm xrksvi uli gsv Hvyivd zokszyvg.\n",
      "Atbash is a simple substitution cipher for the Hebrew alphabet.\n"
     ]
    }
   ],
   "source": [
    "def cipher(sentence):\n",
    "    results = [chr(219-ord(char)) if char.islower() else char for char in sentence ]\n",
    "    return \"\".join(results)\n",
    "\n",
    "# この暗号はアドバシュ暗号っていうみたい\n",
    "sentence = \"Atbash is a simple substitution cipher for the Hebrew alphabet.\"\n",
    "print(cipher(sentence))\n",
    "print(cipher(cipher(sentence)))"
   ]
  },
  {
   "cell_type": "markdown",
   "metadata": {},
   "source": [
    "- ordは文字をASCII codeにする。chrは逆\n",
    "- .islower()と.isupper()は小文字か大文字かを判定する\n",
    ">[細かい判定基準を調べた人](http://d.hatena.ne.jp/nakamura001/20080621/1214032669)\n",
    "> (実際に自分で確認はしていない)\n",
    "- 上と下のコードだと上のコードは、変数名が多くて、見にくい\n",
    "- 上のコードはリストを使ったプログラム、下のコードはジェネレータ内包表記(今後更新予定)\n",
    "[参考サイト](https://qiita.com/segavvy/items/5552623de614ca3344df)"
   ]
  },
  {
   "cell_type": "markdown",
   "metadata": {},
   "source": [
    "### 09.Typoglycemia\n",
    "スペースで区切られた単語列に対して、各単語の先頭と末尾の文字は残し、それ以外の文字の順序をランダムに並び替えるプログラムを作成せよ。ただし、長さが4以下の単語は並び替えないこととする。適当な英語の文（\"I couldn't believe that I could actually understand what I was reading : the phenomenal power of the human mind.\"）を与え、その実行結果を確認せよ。"
   ]
  },
  {
   "cell_type": "code",
   "execution_count": 5,
   "metadata": {},
   "outputs": [
    {
     "name": "stdout",
     "output_type": "stream",
     "text": [
      "I c'dlonut bliveee that I colud atcullay urestndand what I was rideang : the poahmnneel pewor of the huamn midn.\n"
     ]
    }
   ],
   "source": [
    "import random\n",
    "\n",
    "def Typoglycemia(sentence):\n",
    "    result = []\n",
    "    for word in sentence.split(' '):\n",
    "        if len(word) <= 4:\n",
    "            result.append(word)\n",
    "        else:\n",
    "            chr_list = list(word[1:-1])\n",
    "            random.shuffle(chr_list)\n",
    "            result.append(word[0] + ''.join(chr_list) + word[-1])\n",
    "\n",
    "    return ' '.join(result)\n",
    "\n",
    "# 対象文字列の入力\n",
    "sentence = \"I couldn't believe that I could actually understand what I was reading : the phenomenal power of the human mind.\"\n",
    "\n",
    "# タイポグリセミア\n",
    "shuffled_str = Typoglycemia(sentence)\n",
    "print(shuffled_str)"
   ]
  },
  {
   "cell_type": "code",
   "execution_count": 3,
   "metadata": {},
   "outputs": [
    {
     "name": "stdout",
     "output_type": "stream",
     "text": [
      "I cl'onudt bliveee that I cloud aucallty unadenrtsd what I was riendag : the pmneoanehl pweor of the human mdni.\n"
     ]
    }
   ],
   "source": [
    "import random\n",
    "\n",
    "sentence = \"I couldn't believe that I could actually understand what I was reading : the phenomenal power of the human mind.\"\n",
    "words = sentence.split(\" \")\n",
    "\n",
    "shuffled_list = []\n",
    "for word in words:\n",
    "    if len(word) <= 4:\n",
    "        pass\n",
    "    else:\n",
    "        char_list = list(word)     # 文字列を一文字ずつリストに格納\n",
    "        mid_list = char_list[1:-1] # 先頭と末尾の文字以外を取り出す\n",
    "        random.shuffle(mid_list)   # 取り出した文字列をシャッフル\n",
    "        word = word[0] + \"\".join(mid_list) + word[-1]\n",
    "    shuffled_list.append(word)\n",
    "\n",
    "shuffled_str = \" \".join(shuffled_list)\n",
    "print(shuffled_str)"
   ]
  },
  {
   "cell_type": "markdown",
   "metadata": {},
   "source": [
    "- main文でたくさん変数名を設定すると読みにくいから、ある処理をしたい時は、関数を使うとmain文が見やすくなる(コードが短い＆変数名が少ない)\n",
    "- 最後だけ残すとかしたい時に、前から数えるのが面倒だから-(マイナス)を使う"
   ]
  }
 ],
 "metadata": {
  "kernelspec": {
   "display_name": "Python 3",
   "language": "python",
   "name": "python3"
  },
  "language_info": {
   "codemirror_mode": {
    "name": "ipython",
    "version": 3
   },
   "file_extension": ".py",
   "mimetype": "text/x-python",
   "name": "python",
   "nbconvert_exporter": "python",
   "pygments_lexer": "ipython3",
   "version": "3.6.0"
  }
 },
 "nbformat": 4,
 "nbformat_minor": 2
}
